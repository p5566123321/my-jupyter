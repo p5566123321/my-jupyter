{
 "cells": [
  {
   "cell_type": "code",
   "execution_count": 1,
   "id": "2eda7f74",
   "metadata": {},
   "outputs": [
    {
     "data": {
      "text/plain": [
       "'2.2.1'"
      ]
     },
     "execution_count": 1,
     "metadata": {},
     "output_type": "execute_result"
    }
   ],
   "source": [
    "import torch\n",
    "torch.__version__"
   ]
  },
  {
   "cell_type": "code",
   "execution_count": 2,
   "id": "0102d874",
   "metadata": {},
   "outputs": [
    {
     "data": {
      "text/plain": [
       "tensor([[-2.5277, -1.5839,  1.1411, -0.2757],\n",
       "        [-1.0695, -2.0831, -1.1950,  1.6209],\n",
       "        [ 2.8176, -0.6958, -0.3485, -0.0895],\n",
       "        [ 0.6868, -1.1868,  0.0324, -0.7502]])"
      ]
     },
     "execution_count": 2,
     "metadata": {},
     "output_type": "execute_result"
    }
   ],
   "source": [
    "x = torch.randn(4,4)\n",
    "x"
   ]
  },
  {
   "cell_type": "code",
   "execution_count": 3,
   "id": "843362af",
   "metadata": {},
   "outputs": [
    {
     "data": {
      "text/plain": [
       "array([1., 1., 1., 1., 1.], dtype=float32)"
      ]
     },
     "execution_count": 3,
     "metadata": {},
     "output_type": "execute_result"
    }
   ],
   "source": [
    "a = torch.ones(5)\n",
    "b = a.numpy()\n",
    "b"
   ]
  },
  {
   "cell_type": "code",
   "execution_count": 4,
   "id": "545702f4",
   "metadata": {},
   "outputs": [
    {
     "data": {
      "text/plain": [
       "tensor([[-0.6466, -0.0385, -0.2858,  0.1096],\n",
       "        [-0.1337, -0.6948,  0.8531, -1.1416],\n",
       "        [-1.0525,  0.0899, -0.5280,  0.7684]], requires_grad=True)"
      ]
     },
     "execution_count": 4,
     "metadata": {},
     "output_type": "execute_result"
    }
   ],
   "source": [
    "x = torch.randn(3,4,requires_grad=True)\n",
    "x"
   ]
  },
  {
   "cell_type": "code",
   "execution_count": 5,
   "id": "882de8e7",
   "metadata": {},
   "outputs": [
    {
     "data": {
      "text/plain": [
       "tensor([[-0.9489,  0.8014, -0.5200,  1.4198],\n",
       "        [ 0.2935,  0.1470, -0.1978, -0.1214],\n",
       "        [-0.6636,  0.1992, -0.1156,  0.8006]], requires_grad=True)"
      ]
     },
     "execution_count": 5,
     "metadata": {},
     "output_type": "execute_result"
    }
   ],
   "source": [
    "b = torch.randn(3,4,requires_grad=True)\n",
    "b"
   ]
  },
  {
   "cell_type": "code",
   "execution_count": 12,
   "id": "c9086cfc",
   "metadata": {},
   "outputs": [
    {
     "data": {
      "text/plain": [
       "tensor([[-1.5955,  0.7628, -0.8059,  1.5294],\n",
       "        [ 0.1598, -0.5478,  0.6553, -1.2630],\n",
       "        [-1.7162,  0.2891, -0.6436,  1.5691]], grad_fn=<AddBackward0>)"
      ]
     },
     "execution_count": 12,
     "metadata": {},
     "output_type": "execute_result"
    }
   ],
   "source": [
    "t = x + b\n",
    "t"
   ]
  },
  {
   "cell_type": "code",
   "execution_count": 14,
   "id": "ce1c9589",
   "metadata": {},
   "outputs": [
    {
     "data": {
      "text/plain": [
       "tensor(-1.6064, grad_fn=<SumBackward0>)"
      ]
     },
     "execution_count": 14,
     "metadata": {},
     "output_type": "execute_result"
    }
   ],
   "source": [
    "y = t.sum()\n",
    "y"
   ]
  },
  {
   "cell_type": "code",
   "execution_count": 18,
   "id": "e0995749",
   "metadata": {},
   "outputs": [
    {
     "data": {
      "text/plain": [
       "tensor([[3., 3., 3., 3.],\n",
       "        [3., 3., 3., 3.],\n",
       "        [3., 3., 3., 3.]])"
      ]
     },
     "execution_count": 18,
     "metadata": {},
     "output_type": "execute_result"
    }
   ],
   "source": [
    "y.backward()\n",
    "b.grad"
   ]
  },
  {
   "cell_type": "code",
   "execution_count": 20,
   "id": "a565de41",
   "metadata": {},
   "outputs": [
    {
     "data": {
      "text/plain": [
       "(True, True, True)"
      ]
     },
     "execution_count": 20,
     "metadata": {},
     "output_type": "execute_result"
    }
   ],
   "source": [
    "x.requires_grad, b.requires_grad, t.requires_grad"
   ]
  },
  {
   "cell_type": "code",
   "execution_count": 25,
   "id": "2087c07c",
   "metadata": {},
   "outputs": [
    {
     "data": {
      "text/plain": [
       "tensor([0.7681], grad_fn=<AddBackward0>)"
      ]
     },
     "execution_count": 25,
     "metadata": {},
     "output_type": "execute_result"
    }
   ],
   "source": [
    "x = torch.rand(1)\n",
    "b = torch.rand(1,requires_grad=True)\n",
    "w = torch.rand(1,requires_grad=True)\n",
    "y = w*x\n",
    "z = y+b\n",
    "z"
   ]
  },
  {
   "cell_type": "code",
   "execution_count": 28,
   "id": "498ca260",
   "metadata": {},
   "outputs": [
    {
     "data": {
      "text/plain": [
       "(False, True, True, True)"
      ]
     },
     "execution_count": 28,
     "metadata": {},
     "output_type": "execute_result"
    }
   ],
   "source": [
    "x.requires_grad, b.requires_grad, w.requires_grad, y.requires_grad"
   ]
  },
  {
   "cell_type": "code",
   "execution_count": 31,
   "id": "0dc5b4fe",
   "metadata": {},
   "outputs": [],
   "source": [
    "z.backward(retain_graph=True)"
   ]
  },
  {
   "cell_type": "code",
   "execution_count": 32,
   "id": "29702967",
   "metadata": {},
   "outputs": [
    {
     "data": {
      "text/plain": [
       "tensor([0.6272])"
      ]
     },
     "execution_count": 32,
     "metadata": {},
     "output_type": "execute_result"
    }
   ],
   "source": [
    "w.grad"
   ]
  },
  {
   "cell_type": "code",
   "execution_count": 44,
   "id": "a1ed522e",
   "metadata": {},
   "outputs": [
    {
     "data": {
      "text/plain": [
       "tensor([3.])"
      ]
     },
     "execution_count": 44,
     "metadata": {},
     "output_type": "execute_result"
    }
   ],
   "source": [
    "b.grad"
   ]
  },
  {
   "cell_type": "markdown",
   "id": "75c26e14",
   "metadata": {},
   "source": [
    "線性回歸\n",
    "---"
   ]
  },
  {
   "cell_type": "markdown",
   "id": "c2e35bc2",
   "metadata": {},
   "source": [
    "Step 1: 定義數據集\n",
    "--"
   ]
  },
  {
   "cell_type": "code",
   "execution_count": 46,
   "id": "d5581671",
   "metadata": {},
   "outputs": [
    {
     "data": {
      "text/plain": [
       "(11, 1)"
      ]
     },
     "execution_count": 46,
     "metadata": {},
     "output_type": "execute_result"
    }
   ],
   "source": [
    "import numpy as np\n",
    "\n",
    "x_values = [i for i in range(11)]\n",
    "x_train = np.array(x_values, dtype=np.float32) # np.array couldn't be train in NN.\n",
    "x_train = x_train.reshape(-1,1) # trans to arrray\n",
    "x_train.shape\n",
    "\n",
    "# trun np_array into array "
   ]
  },
  {
   "cell_type": "code",
   "execution_count": 94,
   "id": "f1410ed0",
   "metadata": {},
   "outputs": [
    {
     "data": {
      "text/plain": [
       "(11, 1)"
      ]
     },
     "execution_count": 94,
     "metadata": {},
     "output_type": "execute_result"
    }
   ],
   "source": [
    "y_values = [2*i for i in x_values]\n",
    "y_train = np.array(x_values, dtype=np.float32)\n",
    "y_train = x_train.reshape(-1,1)\n",
    "y_train.shape"
   ]
  },
  {
   "cell_type": "markdown",
   "id": "51421e02",
   "metadata": {},
   "source": [
    "Step 2: 定義模型\n",
    "--"
   ]
  },
  {
   "cell_type": "code",
   "execution_count": 47,
   "id": "d3b50ee6",
   "metadata": {},
   "outputs": [],
   "source": [
    "import torch\n",
    "import torch.nn as nn"
   ]
  },
  {
   "cell_type": "code",
   "execution_count": 68,
   "id": "dc610491",
   "metadata": {},
   "outputs": [],
   "source": [
    "class LinearRegressionModel(nn.Module):\n",
    "    def __init__(self, input_dim , output_dim):\n",
    "        super(LinearRegressionModel,self).__init__()\n",
    "        self.linear = nn.Linear(input_dim, output_dim) # layers to be used\n",
    "    def forward(self, x):\n",
    "        out = self.linear(x) # how to walk\n",
    "        return out"
   ]
  },
  {
   "cell_type": "code",
   "execution_count": 79,
   "id": "d5a75848",
   "metadata": {},
   "outputs": [
    {
     "data": {
      "text/plain": [
       "LinearRegressionModel(\n",
       "  (linear): Linear(in_features=1, out_features=1, bias=True)\n",
       ")"
      ]
     },
     "execution_count": 79,
     "metadata": {},
     "output_type": "execute_result"
    }
   ],
   "source": [
    "input_dim = 1\n",
    "output_dim = 1\n",
    "model = LinearRegressionModel(input_dim, output_dim)\n",
    "model"
   ]
  },
  {
   "cell_type": "markdown",
   "id": "4f5a07ae",
   "metadata": {},
   "source": [
    "Step 3: 定義參數\n",
    "---"
   ]
  },
  {
   "cell_type": "code",
   "execution_count": 95,
   "id": "56717166",
   "metadata": {},
   "outputs": [],
   "source": [
    "epochs = 1000\n",
    "learning_rate = 0.01\n",
    "optimizer = torch.optim.SGD(model.parameters(), lr=learning_rate)\n",
    "criterion = nn.MSELoss()"
   ]
  },
  {
   "cell_type": "markdown",
   "id": "99033a56",
   "metadata": {},
   "source": [
    "Step 4: 開始訓練\n",
    "---"
   ]
  },
  {
   "cell_type": "code",
   "execution_count": 81,
   "id": "348927d5",
   "metadata": {},
   "outputs": [
    {
     "name": "stdout",
     "output_type": "stream",
     "text": [
      "epoch 50, loss 0.009800647385418415\n",
      "epoch 100, loss 0.005589930806308985\n",
      "epoch 150, loss 0.003188276896253228\n",
      "epoch 200, loss 0.0018184765940532088\n",
      "epoch 250, loss 0.0010371903190389276\n",
      "epoch 300, loss 0.0005915748188272119\n",
      "epoch 350, loss 0.0003374131629243493\n",
      "epoch 400, loss 0.00019244504801463336\n",
      "epoch 450, loss 0.0001097639324143529\n",
      "epoch 500, loss 6.260559166548774e-05\n",
      "epoch 550, loss 3.570803164620884e-05\n",
      "epoch 600, loss 2.0366664102766663e-05\n",
      "epoch 650, loss 1.1616771189437713e-05\n",
      "epoch 700, loss 6.625246442126809e-06\n",
      "epoch 750, loss 3.7788913687109016e-06\n",
      "epoch 800, loss 2.1553810256591532e-06\n",
      "epoch 850, loss 1.2292916835576762e-06\n",
      "epoch 900, loss 7.012276910245419e-07\n",
      "epoch 950, loss 3.9999346768127e-07\n",
      "epoch 1000, loss 2.2810550603935553e-07\n"
     ]
    }
   ],
   "source": [
    "for epoch in range(epochs):\n",
    "    epoch += 1\n",
    "    # 轉換 np_array\n",
    "    inputs = torch.from_numpy(x_train)\n",
    "    labels = torch.from_numpy(y_train)\n",
    "    \n",
    "    # 梯度清零時迭代\n",
    "    optimizer.zero_grad()\n",
    "    \n",
    "    # 向前傳播\n",
    "    output = model(inputs)\n",
    "    \n",
    "    # 計算損失\n",
    "    loss = criterion(output, labels)\n",
    "    \n",
    "    # 反向傳播\n",
    "    loss.backward()\n",
    "    \n",
    "    # 更新權重參數\n",
    "    optimizer.step()\n",
    "    \n",
    "    if epoch%50 ==0:\n",
    "        print('epoch {}, loss {}'.format(epoch, loss.item()))    "
   ]
  },
  {
   "cell_type": "markdown",
   "id": "2f8d6047",
   "metadata": {},
   "source": [
    "Step 5: 預測模型結果\n",
    "---"
   ]
  },
  {
   "cell_type": "code",
   "execution_count": 96,
   "id": "64324769",
   "metadata": {},
   "outputs": [
    {
     "data": {
      "text/plain": [
       "array([[-3.7340565e-06],\n",
       "       [ 9.9999684e-01],\n",
       "       [ 1.9999975e+00],\n",
       "       [ 2.9999981e+00],\n",
       "       [ 3.9999986e+00],\n",
       "       [ 4.9999990e+00],\n",
       "       [ 6.0000000e+00],\n",
       "       [ 7.0000005e+00],\n",
       "       [ 8.0000010e+00],\n",
       "       [ 9.0000019e+00],\n",
       "       [ 1.0000002e+01]], dtype=float32)"
      ]
     },
     "execution_count": 96,
     "metadata": {},
     "output_type": "execute_result"
    }
   ],
   "source": [
    "predicted = model(torch.from_numpy(x_train).requires_grad_()).data.numpy() # turn to np.array\n",
    "predicted"
   ]
  },
  {
   "cell_type": "markdown",
   "id": "feb74c2a",
   "metadata": {},
   "source": [
    "Step 6: 模型保存與讀取\n",
    "---\n",
    "> 生產環境中需要邊訓練邊保存好的權重"
   ]
  },
  {
   "cell_type": "code",
   "execution_count": 86,
   "id": "638339af",
   "metadata": {},
   "outputs": [],
   "source": [
    "torch.save(model.state_dict(),'model.pk1')"
   ]
  },
  {
   "cell_type": "code",
   "execution_count": 90,
   "id": "453a4c80",
   "metadata": {},
   "outputs": [
    {
     "data": {
      "text/plain": [
       "<All keys matched successfully>"
      ]
     },
     "execution_count": 90,
     "metadata": {},
     "output_type": "execute_result"
    }
   ],
   "source": [
    "model.load_state_dict(torch.load('model.pk1'))"
   ]
  },
  {
   "cell_type": "markdown",
   "id": "c843046e",
   "metadata": {},
   "source": [
    "使用GPU訓練\n",
    "---\n",
    "> 把 數據 與 模型 導入\n",
    "cuda"
   ]
  },
  {
   "cell_type": "code",
   "execution_count": 93,
   "id": "9f2f4aa3",
   "metadata": {},
   "outputs": [
    {
     "name": "stdout",
     "output_type": "stream",
     "text": [
      "epoch 50, loss 1.301679191101357e-07\n",
      "epoch 100, loss 7.422138281754087e-08\n",
      "epoch 150, loss 4.2271654621117705e-08\n",
      "epoch 200, loss 2.4142394750015228e-08\n",
      "epoch 250, loss 1.3762433859199064e-08\n",
      "epoch 300, loss 7.846784555454178e-09\n",
      "epoch 350, loss 4.489085547731975e-09\n",
      "epoch 400, loss 2.547222655024939e-09\n",
      "epoch 450, loss 1.4561197803075743e-09\n",
      "epoch 500, loss 8.245861216060746e-10\n",
      "epoch 550, loss 4.728066271830755e-10\n",
      "epoch 600, loss 2.7335358976365853e-10\n",
      "epoch 650, loss 1.5524549701328993e-10\n",
      "epoch 700, loss 9.028764541563206e-11\n",
      "epoch 750, loss 5.2760049801259257e-11\n",
      "epoch 800, loss 3.0272225698402266e-11\n",
      "epoch 850, loss 1.8278312891029103e-11\n",
      "epoch 900, loss 1.1109039035894774e-11\n",
      "epoch 950, loss 6.610444396731863e-12\n",
      "epoch 1000, loss 4.119225793797199e-12\n"
     ]
    }
   ],
   "source": [
    "# model傳到 GPU\n",
    "device = torch.device(\"cuda:0\" if torch.cuda.is_available() else \"cpu\") \n",
    "model.to(device)\n",
    "\n",
    "\n",
    "for epoch in range(epochs):\n",
    "    epoch += 1\n",
    "    # 參數傳到 GPU\n",
    "    inputs = torch.from_numpy(x_train).to(device)\n",
    "    labels = torch.from_numpy(y_train).to(device)\n",
    "    \n",
    "    # 梯度清零時迭代\n",
    "    optimizer.zero_grad()\n",
    "    \n",
    "    # 向前傳播\n",
    "    output = model(inputs)\n",
    "    \n",
    "    # 計算損失\n",
    "    loss = criterion(output, labels)\n",
    "    \n",
    "    # 反向傳播\n",
    "    loss.backward()\n",
    "    \n",
    "    # 更新權重參數\n",
    "\n",
    "    optimizer.step()\n",
    "    \n",
    "    if epoch%50 ==0:\n",
    "        print('epoch {}, loss {}'.format(epoch, loss.item()))    "
   ]
  },
  {
   "cell_type": "markdown",
   "id": "c85f04e2",
   "metadata": {},
   "source": [
    "重點整理\n",
    "---\n",
    "1. 在pytorch不需要自己定義反向傳播"
   ]
  }
 ],
 "metadata": {
  "kernelspec": {
   "display_name": "Python 3 (ipykernel)",
   "language": "python",
   "name": "python3"
  },
  "language_info": {
   "codemirror_mode": {
    "name": "ipython",
    "version": 3
   },
   "file_extension": ".py",
   "mimetype": "text/x-python",
   "name": "python",
   "nbconvert_exporter": "python",
   "pygments_lexer": "ipython3",
   "version": "3.11.5"
  }
 },
 "nbformat": 4,
 "nbformat_minor": 5
}
