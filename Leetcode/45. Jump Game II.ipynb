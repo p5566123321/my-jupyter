{
 "cells": [
  {
   "cell_type": "markdown",
   "id": "1d059e4a",
   "metadata": {},
   "source": [
    "1. 解讀：\n",
    "    一個array內代表最遠可以跳躍距離 \n",
    "    求從0到最後的最短跳躍次數    "
   ]
  },
  {
   "cell_type": "markdown",
   "id": "a3a7a579",
   "metadata": {},
   "source": [
    "窮舉法：\n",
    "--\n",
    "找出從起始到終點的所有步數\n",
    "從中取最短者"
   ]
  },
  {
   "cell_type": "code",
   "execution_count": 2,
   "id": "e588b2a4",
   "metadata": {},
   "outputs": [
    {
     "name": "stdout",
     "output_type": "stream",
     "text": [
      "5\n"
     ]
    }
   ],
   "source": [
    "# Memory Limit Exceeded\n",
    "\n",
    "from typing import List\n",
    "\n",
    "class Solution:\n",
    "    def Jumploop(self,idx,step):\n",
    "        value = self.nums[idx]\n",
    "        tolast = False\n",
    "        if idx == self.last:\n",
    "            self.steps.append(0)\n",
    "        else:\n",
    "            for i in range(value):\n",
    "                x = i + 1\n",
    "                if idx + x >= self.last:\n",
    "                    tolast = True\n",
    "                    self.steps.append(step + 1)\n",
    "                elif self.nums[idx+x] > 0:\n",
    "                    self.Jumploop(idx + x,step + 1)\n",
    "                \n",
    "    def jump(self, nums: List[int]) -> int:\n",
    "        self.last = len(nums) - 1\n",
    "        self.steps = []\n",
    "        self.nums = nums \n",
    "        self.Jumploop(0,0)\n",
    " \n",
    "\n",
    "        return min(self.steps)\n",
    "\n",
    "solution_instance = Solution()\n",
    "\n",
    "nums =  [5,6,4,4,6,9,4,4,7,4,4,8,2,6,8,1,5,9,6,5,2,7,9,7,9,6,9,4,1,6,8,8,4,4,2,0,3,8,5]\n",
    "\n",
    "print(solution_instance.jump(nums))"
   ]
  },
  {
   "cell_type": "markdown",
   "id": "f4ed56bc",
   "metadata": {},
   "source": [
    "Greedy:\n",
    "--\n",
    "    窮舉法的時間複雜度成指數增加\n",
    "    因此需要用Greedy 或是 DP來解題\n",
    "    Greedy的時間複雜度則為 O(n)\n",
    "    重點在於 在循環內選擇跳躍的最遠距離\n",
    "    "
   ]
  },
  {
   "cell_type": "code",
   "execution_count": 3,
   "id": "d794a6d6",
   "metadata": {},
   "outputs": [
    {
     "name": "stdout",
     "output_type": "stream",
     "text": [
      "5\n"
     ]
    }
   ],
   "source": [
    "from typing import List\n",
    "\n",
    "class Solution:\n",
    "    def jump(self, nums: List[int]) -> int:\n",
    "        n = len(nums)\n",
    "        if n <= 1:\n",
    "            return 0\n",
    "        \n",
    "        max_reachable = nums[0]  # 当前位置所能达到的最远位置\n",
    "        steps = 1  # 初始步数\n",
    "        max_jump = nums[0]  # 当前位置的最大跳跃步数\n",
    "        \n",
    "        for i in range(1, n):\n",
    "            if i > max_jump:  # 当前位置超出最大跳跃步数\n",
    "                max_jump = max_reachable  # 更新当前位置的最大跳跃步数\n",
    "                steps += 1  # 跳跃步数加一\n",
    "                \n",
    "            max_reachable = max(max_reachable, i + nums[i])  # 更新当前位置所能达到的最远位置\n",
    "        \n",
    "        return steps\n",
    "\n",
    "solution_instance = Solution()\n",
    "\n",
    "nums = [5,6,4,4,6,9,4,4,7,4,4,8,2,6,8,1,5,9,6,5,2,7,9,7,9,6,9,4,1,6,8,8,4,4,2,0,3,8,5]\n",
    "print(solution_instance.jump(nums))  # 输出: 5\n"
   ]
  },
  {
   "cell_type": "code",
   "execution_count": null,
   "id": "d26388e4",
   "metadata": {},
   "outputs": [],
   "source": []
  }
 ],
 "metadata": {
  "kernelspec": {
   "display_name": "Python 3 (ipykernel)",
   "language": "python",
   "name": "python3"
  },
  "language_info": {
   "codemirror_mode": {
    "name": "ipython",
    "version": 3
   },
   "file_extension": ".py",
   "mimetype": "text/x-python",
   "name": "python",
   "nbconvert_exporter": "python",
   "pygments_lexer": "ipython3",
   "version": "3.11.5"
  }
 },
 "nbformat": 4,
 "nbformat_minor": 5
}
