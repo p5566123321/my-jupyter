{
 "cells": [
  {
   "cell_type": "markdown",
   "id": "b8d4427b",
   "metadata": {},
   "source": [
    "1. 如果總汽油量小於總消耗量，那麼無論從哪個加油站開始，都不可能完成一圈，直接返回 -1。\n",
    "2. 使用一個變量 total_tank 來跟踪整個環路中的總汽油量和總消耗量。\n",
    "3. 使用一個變量 current_tank 來跟踪當前從某個起點到當前加油站的剩餘汽油量。\n",
    "4. 如果 current_tank 小於0，意味著從這個起點到目前為止的加油站無法完成一圈，我們需要從下一個加油站重新開始，並更新起點。\n",
    "5. 最後，如果能夠完成遍歷，返回起點位置；否則返回 -1。"
   ]
  },
  {
   "cell_type": "code",
   "execution_count": 3,
   "id": "8a6a1c1d",
   "metadata": {},
   "outputs": [
    {
     "data": {
      "text/plain": [
       "3"
      ]
     },
     "execution_count": 3,
     "metadata": {},
     "output_type": "execute_result"
    }
   ],
   "source": [
    "from typing import List\n",
    "\n",
    "\n",
    "class Solution:\n",
    "    def canCompleteCircuit(self, gas: List[int], cost: List[int]) -> int:\n",
    "        total_tank = 0\n",
    "        current_tank = 0\n",
    "        starting_station = 0\n",
    "        \n",
    "        for i in range(len(gas)):\n",
    "            total_tank += gas[i] - cost[i]\n",
    "            current_tank += gas[i] - cost[i]\n",
    "            \n",
    "            # If one couldn't get here\n",
    "            if current_tank < 0:\n",
    "                # Pick up the next station as the starting one\n",
    "                starting_station = i + 1\n",
    "                # Start with an empty tank\n",
    "                current_tank = 0\n",
    "        \n",
    "        # If the total amount of gas is bigger than the total amount of cost, return starting station\n",
    "        # Otherwise, return -1\n",
    "        return starting_station if total_tank >= 0 else -1\n",
    "\n",
    "\n",
    "Obj = Solution()\n",
    "# gas = [1,2,3,4,5], cost = [3,4,5,1,2]\n",
    "Obj.canCompleteCircuit(gas = [1,2,3,4,5], cost = [3,4,5,1,2])"
   ]
  }
 ],
 "metadata": {
  "kernelspec": {
   "display_name": "Python 3 (ipykernel)",
   "language": "python",
   "name": "python3"
  },
  "language_info": {
   "codemirror_mode": {
    "name": "ipython",
    "version": 3
   },
   "file_extension": ".py",
   "mimetype": "text/x-python",
   "name": "python",
   "nbconvert_exporter": "python",
   "pygments_lexer": "ipython3",
   "version": "3.11.5"
  }
 },
 "nbformat": 4,
 "nbformat_minor": 5
}
