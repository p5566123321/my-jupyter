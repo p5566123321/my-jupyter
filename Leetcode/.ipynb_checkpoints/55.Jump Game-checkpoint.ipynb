{
 "cells": [
  {
   "cell_type": "markdown",
   "id": "9095bab2",
   "metadata": {},
   "source": [
    "First try :\n",
    "--\n",
    "overtime error"
   ]
  },
  {
   "cell_type": "code",
   "execution_count": 15,
   "id": "046b248c",
   "metadata": {},
   "outputs": [
    {
     "name": "stdout",
     "output_type": "stream",
     "text": [
      "False\n"
     ]
    }
   ],
   "source": [
    "\n",
    "from typing import List\n",
    "\n",
    "class Solution:\n",
    "    def Jumploop(self,idx):\n",
    "        result = False\n",
    "        value = nums[idx]\n",
    "        for i in range(value):\n",
    "            x = i + 1\n",
    "            if idx + x >= self.last:\n",
    "                result = True\n",
    "            elif self.Jumploop(idx + x):\n",
    "                result = True\n",
    "        return result\n",
    "\n",
    "    def canJump(self, nums: List[int]) -> bool:\n",
    "        \n",
    "        self.last = len(nums) - 1\n",
    "        return self.Jumploop(0)\n",
    "            \n",
    "solution_instance = Solution()\n",
    "\n",
    "nums = [0,2,3]\n",
    "\n",
    "print(solution_instance.canJump(nums))"
   ]
  },
  {
   "cell_type": "markdown",
   "id": "f669473d",
   "metadata": {},
   "source": [
    "汽車理論\n",
    "--\n",
    "想像開著一台車，路上散落著汽油\n",
    "每開出去一步汽油就會減少\n",
    "因此最當下能達到的最遠距離為：手上的汽油量與陸上的汽油量較大者\n",
    "若汽油耗光則失敗\n",
    "成功到達最後則成功"
   ]
  },
  {
   "cell_type": "code",
   "execution_count": null,
   "id": "d01903eb",
   "metadata": {},
   "outputs": [],
   "source": [
    "class Solution:\n",
    "    def canJump(self, nums: List[int]) -> bool:\n",
    "        gas = 0\n",
    "        for n in nums:\n",
    "            if gas < 0:\n",
    "                return False\n",
    "            elif n > gas:\n",
    "                gas = n\n",
    "            gas -= 1\n",
    "        return True"
   ]
  }
 ],
 "metadata": {
  "kernelspec": {
   "display_name": "Python 3 (ipykernel)",
   "language": "python",
   "name": "python3"
  },
  "language_info": {
   "codemirror_mode": {
    "name": "ipython",
    "version": 3
   },
   "file_extension": ".py",
   "mimetype": "text/x-python",
   "name": "python",
   "nbconvert_exporter": "python",
   "pygments_lexer": "ipython3",
   "version": "3.11.5"
  }
 },
 "nbformat": 4,
 "nbformat_minor": 5
}
